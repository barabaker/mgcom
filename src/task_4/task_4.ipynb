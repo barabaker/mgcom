{
 "cells": [
  {
   "cell_type": "markdown",
   "id": "c8a62f58-659f-45b0-9270-3784ff07c043",
   "metadata": {},
   "source": [
    "# Задание № 4"
   ]
  },
  {
   "cell_type": "code",
   "execution_count": 27,
   "id": "042d5acc-963e-4ee6-a4bb-a91332f2cb61",
   "metadata": {},
   "outputs": [],
   "source": [
    "import pandas as pd\n",
    "\n",
    "\n",
    "df = pd.read_csv(\"../data/in/data.csv\")"
   ]
  },
  {
   "cell_type": "code",
   "execution_count": 28,
   "id": "5d352462-452c-462b-bf96-2642d19e584c",
   "metadata": {},
   "outputs": [],
   "source": [
    "df['Event Time'] = pd.to_datetime(df['Event Time'], format=\"%m/%d/%y %H:%M\")\n",
    "df['Install Time'] = pd.to_datetime(df['Install Time'], format=\"%m/%d/%y %H:%M\")"
   ]
  },
  {
   "cell_type": "code",
   "execution_count": 29,
   "id": "74553cb5-a7ec-4ab6-9486-b5230c0b40e1",
   "metadata": {},
   "outputs": [],
   "source": [
    "# Фильтрация по времени (разница не более 2 суток)\n",
    "df_filtered = df[(df['Event Time'] - df['Install Time']).dt.days <= 2]\n",
    "\n",
    "# Исключение Adset 2\n",
    "df_filtered = df_filtered[df_filtered['Adset'] != 2]"
   ]
  },
  {
   "cell_type": "code",
   "execution_count": 30,
   "id": "ca29309b-d506-45d5-8ec0-c5f056bb3ec1",
   "metadata": {},
   "outputs": [],
   "source": [
    "# Определение ставки\n",
    "def calculate_payment(row):\n",
    "    if row['City'] == 'Sao Paulo':\n",
    "        return 200\n",
    "    else:\n",
    "        return 100\n",
    "\n",
    "# Применение функции для вычисления выплаты\n",
    "df_filtered['Payment'] = df_filtered.apply(calculate_payment, axis=1)"
   ]
  },
  {
   "cell_type": "code",
   "execution_count": 31,
   "id": "cc4a4177-b44a-4e5b-9191-d6160b5cffd7",
   "metadata": {},
   "outputs": [
    {
     "name": "stdout",
     "output_type": "stream",
     "text": [
      "17000\n"
     ]
    }
   ],
   "source": [
    "total_payment = df_filtered['Payment'].sum()\n",
    "print(total_payment)"
   ]
  },
  {
   "cell_type": "code",
   "execution_count": null,
   "id": "c39ff6a5-4399-4752-aaca-c41ea9edfe83",
   "metadata": {},
   "outputs": [],
   "source": [
    "### 17000"
   ]
  }
 ],
 "metadata": {
  "kernelspec": {
   "display_name": "Python 3 (ipykernel)",
   "language": "python",
   "name": "python3"
  },
  "language_info": {
   "codemirror_mode": {
    "name": "ipython",
    "version": 3
   },
   "file_extension": ".py",
   "mimetype": "text/x-python",
   "name": "python",
   "nbconvert_exporter": "python",
   "pygments_lexer": "ipython3",
   "version": "3.11.7"
  }
 },
 "nbformat": 4,
 "nbformat_minor": 5
}
