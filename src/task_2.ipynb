{
 "cells": [
  {
   "cell_type": "markdown",
   "id": "f38daf7b-4a07-486f-a23f-554d418d2d50",
   "metadata": {},
   "source": [
    "## Задача 2\n",
    "\n",
    "- Написать 2 класса, первый - делает запросы, второй преобразует запрос в Dataframe\n",
    "- Сделать 3 запроса и сформировать таблицу\n",
    "- Вывести таблицу в сортировке по цене\n",
    "- Выведи в удобный формат в Excel\n",
    "\n",
    "\n",
    "- Endpoint\n",
    "https://api.binance.com/api/v3/ticker/price\n",
    "\n",
    "Query params:\n",
    "\n",
    "symbol - string\n",
    "\n",
    "1. BNBBTC\n",
    "2. ETHBTC\n",
    "3. LTCBTC"
   ]
  },
  {
   "cell_type": "markdown",
   "id": "3c830bb3-69dc-4c03-9181-e2f21eeb4545",
   "metadata": {},
   "source": [
    "##### импорты и классы"
   ]
  },
  {
   "cell_type": "code",
   "execution_count": 3,
   "id": "4bf49f0c-8f5f-4941-9368-1e5472d69784",
   "metadata": {},
   "outputs": [],
   "source": [
    "import requests\n",
    "import pandas as pd\n",
    "\n",
    "\n",
    "class BinanceRequest:\n",
    "    base_url = 'https://api.binance.com'\n",
    "\n",
    "    def __init__(self, endpoint):\n",
    "        self.url = f\"{self.base_url}/{endpoint}\"\n",
    "\n",
    "    def get_price_pair(self, symbol: str):\n",
    "        response = requests.get(self.url, params = {\"symbol\": symbol})\n",
    "        if response.status_code == 200:\n",
    "            return response.json()\n",
    "\n",
    "\n",
    "class DataFrameConverter:\n",
    "    def __init__(self):\n",
    "        self.data = []\n",
    "\n",
    "    def add_data(self, new_data):\n",
    "        self.data.append(new_data)\n",
    "\n",
    "    def get_df(self):\n",
    "        return pd.DataFrame(self.data)\n",
    "\n",
    "\n"
   ]
  },
  {
   "cell_type": "code",
   "execution_count": 4,
   "id": "da251044-3911-4a28-806e-083dacf8c0bc",
   "metadata": {},
   "outputs": [],
   "source": [
    "binance_request = BinanceRequest(endpoint = 'api/v3/ticker/price')\n",
    "df_converter = DataFrameConverter()\n",
    "\n",
    "\n",
    "for pair in ['BNBBTC', 'ETHBTC', 'LTCBTC']:\n",
    "    price = binance_request.get_price_pair(pair)\n",
    "    df_converter.add_data(price)\n",
    "\n",
    "\n",
    "df = df_converter.get_df()\n",
    "\n",
    "\n",
    "df_sorted = df.sort_values(by = 'price', ascending = True)\n",
    "df_sorted.to_excel('../data/out/sorted_price.xlsx', index = False)"
   ]
  },
  {
   "cell_type": "code",
   "execution_count": 5,
   "id": "976e27a1-dfbb-490d-a237-4f847e0aa1e6",
   "metadata": {},
   "outputs": [
    {
     "data": {
      "text/html": [
       "<div>\n",
       "<style scoped>\n",
       "    .dataframe tbody tr th:only-of-type {\n",
       "        vertical-align: middle;\n",
       "    }\n",
       "\n",
       "    .dataframe tbody tr th {\n",
       "        vertical-align: top;\n",
       "    }\n",
       "\n",
       "    .dataframe thead th {\n",
       "        text-align: right;\n",
       "    }\n",
       "</style>\n",
       "<table border=\"1\" class=\"dataframe\">\n",
       "  <thead>\n",
       "    <tr style=\"text-align: right;\">\n",
       "      <th></th>\n",
       "      <th>symbol</th>\n",
       "      <th>price</th>\n",
       "    </tr>\n",
       "  </thead>\n",
       "  <tbody>\n",
       "    <tr>\n",
       "      <th>0</th>\n",
       "      <td>BNBBTC</td>\n",
       "      <td>0.00872800</td>\n",
       "    </tr>\n",
       "    <tr>\n",
       "      <th>1</th>\n",
       "      <td>ETHBTC</td>\n",
       "      <td>0.03872000</td>\n",
       "    </tr>\n",
       "    <tr>\n",
       "      <th>2</th>\n",
       "      <td>LTCBTC</td>\n",
       "      <td>0.00109200</td>\n",
       "    </tr>\n",
       "  </tbody>\n",
       "</table>\n",
       "</div>"
      ],
      "text/plain": [
       "   symbol       price\n",
       "0  BNBBTC  0.00872800\n",
       "1  ETHBTC  0.03872000\n",
       "2  LTCBTC  0.00109200"
      ]
     },
     "execution_count": 5,
     "metadata": {},
     "output_type": "execute_result"
    }
   ],
   "source": [
    "df"
   ]
  }
 ],
 "metadata": {
  "kernelspec": {
   "display_name": "Python 3 (ipykernel)",
   "language": "python",
   "name": "python3"
  },
  "language_info": {
   "codemirror_mode": {
    "name": "ipython",
    "version": 3
   },
   "file_extension": ".py",
   "mimetype": "text/x-python",
   "name": "python",
   "nbconvert_exporter": "python",
   "pygments_lexer": "ipython3",
   "version": "3.11.7"
  }
 },
 "nbformat": 4,
 "nbformat_minor": 5
}
