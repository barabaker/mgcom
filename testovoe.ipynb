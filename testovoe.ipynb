{
 "cells": [
  {
   "cell_type": "markdown",
   "metadata": {},
   "source": [
    "## Задача 1\n",
    "- Прочитай файл 'marketing_mix.csv'\n",
    "- Приведи дату к формату '2024-01-01'\n",
    "- Приведи датафрейм к формату Дата, Источник, Доход\n",
    "- Удали дубликаты по столбцам Дата, Источник\n",
    "- Добавь столбец OS, если источник TikTok и Facebook, то 'Android', если Google Ads, то 'IOS', если Sales, то 'WEB'\n",
    "- Сделай сводную: Динамика дохода по источникам по годам\n",
    "- Выведи в удобный формат в Excel"
   ]
  },
  {
   "cell_type": "code",
   "execution_count": null,
   "metadata": {},
   "outputs": [],
   "source": []
  },
  {
   "cell_type": "markdown",
   "metadata": {},
   "source": [
    "## Задача 2\n",
    "\n",
    "- Написать 2 класса, первый - делает запросы, второй преобразует запрос в Dataframe\n",
    "- Сделать 3 запроса и сформировать таблицу\n",
    "- Вывести таблицу в сортировке по цене\n",
    "- Выведи в удобный формат в Excel\n",
    "\n",
    "\n",
    "- Endpoint\n",
    "https://api.binance.com/api/v3/ticker/price\n",
    "\n",
    "Query params:\n",
    "\n",
    "symbol - string\n",
    "\n",
    "1. BNBBTC\n",
    "2. ETHBTC\n",
    "3. LTCBTC\n"
   ]
  },
  {
   "cell_type": "code",
   "execution_count": null,
   "metadata": {},
   "outputs": [],
   "source": []
  },
  {
   "cell_type": "markdown",
   "metadata": {},
   "source": [
    "## Задача 3\n",
    "\n",
    "- Сделать SQL запрос и объяснить последовательность действий планировщика\n",
    "\n",
    "\n",
    "Представим, что есть таблица в marts.source_os(по структуре как таблица с предпоследнего пункта задачи 1)\n",
    "\n",
    "- Нужно сделать запрос, который вернёт такую таблицу:\n",
    "OS|сумма дохода|сумма дохода всего|процент от всего дохода"
   ]
  },
  {
   "cell_type": "code",
   "execution_count": null,
   "metadata": {
    "vscode": {
     "languageId": "sql"
    }
   },
   "outputs": [],
   "source": []
  }
 ],
 "metadata": {
  "kernelspec": {
   "display_name": "Python 3",
   "language": "python",
   "name": "python3"
  },
  "language_info": {
   "codemirror_mode": {
    "name": "ipython",
    "version": 3
   },
   "file_extension": ".py",
   "mimetype": "text/x-python",
   "name": "python",
   "nbconvert_exporter": "python",
   "pygments_lexer": "ipython3",
   "version": "3.12.2"
  }
 },
 "nbformat": 4,
 "nbformat_minor": 2
}
